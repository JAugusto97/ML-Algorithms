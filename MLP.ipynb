{
 "cells": [
  {
   "cell_type": "raw",
   "metadata": {},
   "source": [
    "Autor: João Augusto Leite      RA: 743551<br>",
    "Disciplina: Redes Neurais Artificiais (Tópicos em Informática)<br>",
    "Professor: Ricardo Cerri<br>",
    "Instituição: Universidade Federal de São Carlos (UFSCar)<br>",
    "\n",
    "Objetivo: Implementar uma Rede Neural de Múltiplas Camadas com Backpropagation e testá-la usando o dataset Iris."
   ]
  },
  {
   "cell_type": "code",
   "execution_count": 1,
   "metadata": {},
   "outputs": [],
   "source": [
    "import numpy as np\n",
    "import pandas as pd\n",
    "from sklearn import datasets\n",
    "from sklearn.model_selection import train_test_split\n",
    "from sklearn.metrics import accuracy_score"
   ]
  },
  {
   "cell_type": "code",
   "execution_count": 2,
   "metadata": {},
   "outputs": [],
   "source": [
    "def f_ativacao(x):\n",
    "    \"\"\" Funcao de ativacao sigmoidal \"\"\"\n",
    "    return (1 / (1 + np.exp(-x)))\n",
    "\n",
    "def df_ativacao(x):\n",
    "    \"\"\" Derivada da funcao de ativacao \"\"\"\n",
    "    return (x * (1-x))"
   ]
  },
  {
   "cell_type": "code",
   "execution_count": 3,
   "metadata": {},
   "outputs": [],
   "source": [
    "def arquitetura(tam_entrada=2, tam_escondida=2, tam_saida=1,\n",
    "                f_ativacao=f_ativacao, df_ativacao=df_ativacao):\n",
    "    \"\"\" Cria a arquitetura da MLP \"\"\"\n",
    "    \n",
    "    arq = {'tam_entrada' : tam_entrada, \n",
    "           'tam_escondida' : tam_escondida,\n",
    "           'tam_saida' : tam_escondida,\n",
    "           'f_ativacao' : f_ativacao,\n",
    "           'df_ativacao' : df_ativacao,\n",
    "           }\n",
    "    \n",
    "    tam_pesos_saida = (tam_escondida+1) * tam_saida\n",
    "    tam_pesos_escondida = (tam_entrada+1) * tam_escondida\n",
    "    \n",
    "    # Inicializacao com pesos aleatórios de -0.5 a 0.5\n",
    "    arq['pesos_saida'] = np.atleast_2d(np.random.uniform(low=-0.5,\n",
    "                                                         high=0.5,\n",
    "                                                         size=tam_pesos_saida\n",
    "                                                         ).reshape(tam_saida,tam_escondida+1))\n",
    "    \n",
    "    arq['pesos_escondida'] = np.atleast_2d(np.random.uniform(low=-0.5,\n",
    "                                                             high=0.5,\n",
    "                                                             size=tam_pesos_escondida\n",
    "                                                             ).reshape(tam_escondida,tam_entrada+1))\n",
    "    \n",
    "    return arq"
   ]
  },
  {
   "cell_type": "code",
   "execution_count": 4,
   "metadata": {},
   "outputs": [],
   "source": [
    "def forwardpropagation(arq, exemplo):\n",
    "    \"\"\" Computa a saida h(x) da rede para o exemplo x \"\"\"\n",
    "    \n",
    "    X_escondida = np.atleast_2d(arq['pesos_escondida'] @ np.append(exemplo, 1))\n",
    "    Y_escondida = arq['f_ativacao'](X_escondida)\n",
    "    \n",
    "    X_saida = np.atleast_2d(arq['pesos_saida'] @ np.append(Y_escondida, 1))\n",
    "    Y_saida = arq['f_ativacao'](X_saida)\n",
    "   \n",
    "    resultados = {'X_escondida': X_escondida,\n",
    "                  'Y_escondida': Y_escondida,\n",
    "                  'X_saida': X_saida,\n",
    "                  'Y_saida': Y_saida,}\n",
    "    \n",
    "    return resultados"
   ]
  },
  {
   "cell_type": "code",
   "execution_count": 5,
   "metadata": {},
   "outputs": [],
   "source": [
    "def backpropagation(arq, dados, eta=0.1, limiar=1e-3, maxit=np.inf):\n",
    "    \"\"\" Ajusta os pesos sinapticos de acordo com o erro produzido por um exemplo \"\"\"\n",
    "    erroquadratico = 2*limiar\n",
    "    epocas = 0\n",
    "        \n",
    "    while erroquadratico > limiar and epocas < maxit:\n",
    "        erroquadratico = 0\n",
    "        \n",
    "        #Uma época completa:\n",
    "        for i in range(len(dados.index)):  \n",
    "            \n",
    "            #extração de um exemplo i de entrada dentre o dataset inteiro:\n",
    "            exemplo = np.asarray(dados.iloc[i, 0:arq['tam_entrada']])\n",
    "            #extração do valor que deverá ser obtido ao final da época\n",
    "            desejado = np.asarray(dados.iloc[i, arq['tam_entrada']: len(dados.columns)])\n",
    "            \n",
    "            resultados = forwardpropagation(arq, exemplo)\n",
    "            obtido = resultados['Y_saida']\n",
    "            \n",
    "            erro = desejado - obtido\n",
    "            \n",
    "            erroquadratico = erroquadratico + np.sum(erro**2)\n",
    "            \n",
    "            grad_local_saida = np.atleast_2d(erro * arq['df_ativacao'](obtido))\n",
    "            \n",
    "            #recorte dos pesos de saída EXCLUIDO O BIAS\n",
    "            pesos_saida = arq['pesos_saida'][:,0:arq['tam_escondida']]\n",
    "            \n",
    "            grad_local_escondida = np.asarray(arq['df_ativacao'](resultados['Y_escondida'])) * (\n",
    "                                   np.asarray(grad_local_saida) @ pesos_saida)\n",
    "            \n",
    "            #Treino dos pesos sinápticos:\n",
    "            arq['pesos_saida'] = arq['pesos_saida'] + eta * (\n",
    "                                 np.transpose(grad_local_saida) @ (\n",
    "                                 np.atleast_2d(np.append(resultados['Y_escondida'],1))))\n",
    "            \n",
    "            arq['pesos_escondida'] = arq['pesos_escondida'] + eta * (\n",
    "                                     np.transpose(grad_local_escondida) @ (\n",
    "                                     np.atleast_2d(np.append(exemplo,1))))\n",
    "        \n",
    "        #Obtenção do Erro quadrático médio\n",
    "        erroquadratico = erroquadratico / len(dados.index)\n",
    "        \n",
    "        if (epocas % 10 == 0): # (printa o erro a cada 10 epocas)\n",
    "            print(\"Erro Quadrático Médio:\", erroquadratico, \"Epoca:\", epocas)\n",
    "            \n",
    "        epocas += 1\n",
    "    \n",
    "    print(\"\\nErro Quadrático Médio Final:\", erroquadratico, \"\\nUltima epoca:\", epocas)\n",
    "    return arq"
   ]
  },
  {
   "cell_type": "code",
   "execution_count": 6,
   "metadata": {},
   "outputs": [],
   "source": [
    "def change_value(dados):\n",
    "    \"\"\"Essa função trocará os valores 'target' do dataset iris\n",
    "       para n valores binários sendo n o numero de classes originais.\n",
    "       No caso, setosa = [1, 0, 0]; versicolor = [0, 1, 0]; virginica = [0, 0, 1]\n",
    "    \"\"\"\n",
    "    n1 = list()\n",
    "    n2 = list()\n",
    "    n3 = list()\n",
    "    for i in range(len(dados.index)):\n",
    "        if dados['target'][i] == 0.0:\n",
    "            n1.append(1)\n",
    "            n2.append(0)\n",
    "            n3.append(0)\n",
    "\n",
    "        elif dados['target'][i] == 1.0:\n",
    "            n1.append(0)\n",
    "            n2.append(1)\n",
    "            n3.append(0)\n",
    "        elif dados['target'][i] == 2.0:\n",
    "            n1.append(0)\n",
    "            n2.append(0)\n",
    "            n3.append(1)\n",
    "        \n",
    "    values = dict()\n",
    "    values['n1'] = n1\n",
    "    values['n2'] = n2\n",
    "    values['n3'] = n3\n",
    "\n",
    "    return (values)"
   ]
  },
  {
   "cell_type": "code",
   "execution_count": 7,
   "metadata": {
    "scrolled": true
   },
   "outputs": [
    {
     "data": {
      "text/html": [
       "<div>\n",
       "<style scoped>\n",
       "    .dataframe tbody tr th:only-of-type {\n",
       "        vertical-align: middle;\n",
       "    }\n",
       "\n",
       "    .dataframe tbody tr th {\n",
       "        vertical-align: top;\n",
       "    }\n",
       "\n",
       "    .dataframe thead th {\n",
       "        text-align: right;\n",
       "    }\n",
       "</style>\n",
       "<table border=\"1\" class=\"dataframe\">\n",
       "  <thead>\n",
       "    <tr style=\"text-align: right;\">\n",
       "      <th></th>\n",
       "      <th>sepal length (cm)</th>\n",
       "      <th>sepal width (cm)</th>\n",
       "      <th>petal length (cm)</th>\n",
       "      <th>petal width (cm)</th>\n",
       "      <th>target</th>\n",
       "    </tr>\n",
       "  </thead>\n",
       "  <tbody>\n",
       "    <tr>\n",
       "      <th>0</th>\n",
       "      <td>5.1</td>\n",
       "      <td>3.5</td>\n",
       "      <td>1.4</td>\n",
       "      <td>0.2</td>\n",
       "      <td>0.0</td>\n",
       "    </tr>\n",
       "    <tr>\n",
       "      <th>1</th>\n",
       "      <td>4.9</td>\n",
       "      <td>3.0</td>\n",
       "      <td>1.4</td>\n",
       "      <td>0.2</td>\n",
       "      <td>0.0</td>\n",
       "    </tr>\n",
       "    <tr>\n",
       "      <th>2</th>\n",
       "      <td>4.7</td>\n",
       "      <td>3.2</td>\n",
       "      <td>1.3</td>\n",
       "      <td>0.2</td>\n",
       "      <td>0.0</td>\n",
       "    </tr>\n",
       "    <tr>\n",
       "      <th>3</th>\n",
       "      <td>4.6</td>\n",
       "      <td>3.1</td>\n",
       "      <td>1.5</td>\n",
       "      <td>0.2</td>\n",
       "      <td>0.0</td>\n",
       "    </tr>\n",
       "    <tr>\n",
       "      <th>4</th>\n",
       "      <td>5.0</td>\n",
       "      <td>3.6</td>\n",
       "      <td>1.4</td>\n",
       "      <td>0.2</td>\n",
       "      <td>0.0</td>\n",
       "    </tr>\n",
       "  </tbody>\n",
       "</table>\n",
       "</div>"
      ],
      "text/plain": [
       "   sepal length (cm)  sepal width (cm)  petal length (cm)  petal width (cm)  \\\n",
       "0                5.1               3.5                1.4               0.2   \n",
       "1                4.9               3.0                1.4               0.2   \n",
       "2                4.7               3.2                1.3               0.2   \n",
       "3                4.6               3.1                1.5               0.2   \n",
       "4                5.0               3.6                1.4               0.2   \n",
       "\n",
       "   target  \n",
       "0     0.0  \n",
       "1     0.0  \n",
       "2     0.0  \n",
       "3     0.0  \n",
       "4     0.0  "
      ]
     },
     "execution_count": 7,
     "metadata": {},
     "output_type": "execute_result"
    }
   ],
   "source": [
    "#Carregamento do dataset iris\n",
    "iris = datasets.load_iris()\n",
    "dados = pd.DataFrame(data=np.c_[iris['data'], iris['target']], \n",
    "                     columns= iris['feature_names'] + ['target'])\n",
    "dados.head()"
   ]
  },
  {
   "cell_type": "code",
   "execution_count": 8,
   "metadata": {},
   "outputs": [
    {
     "data": {
      "text/html": [
       "<div>\n",
       "<style scoped>\n",
       "    .dataframe tbody tr th:only-of-type {\n",
       "        vertical-align: middle;\n",
       "    }\n",
       "\n",
       "    .dataframe tbody tr th {\n",
       "        vertical-align: top;\n",
       "    }\n",
       "\n",
       "    .dataframe thead th {\n",
       "        text-align: right;\n",
       "    }\n",
       "</style>\n",
       "<table border=\"1\" class=\"dataframe\">\n",
       "  <thead>\n",
       "    <tr style=\"text-align: right;\">\n",
       "      <th></th>\n",
       "      <th>sepal length (cm)</th>\n",
       "      <th>sepal width (cm)</th>\n",
       "      <th>petal length (cm)</th>\n",
       "      <th>petal width (cm)</th>\n",
       "      <th>n1</th>\n",
       "      <th>n2</th>\n",
       "      <th>n3</th>\n",
       "    </tr>\n",
       "  </thead>\n",
       "  <tbody>\n",
       "    <tr>\n",
       "      <th>0</th>\n",
       "      <td>5.1</td>\n",
       "      <td>3.5</td>\n",
       "      <td>1.4</td>\n",
       "      <td>0.2</td>\n",
       "      <td>1.0</td>\n",
       "      <td>0.0</td>\n",
       "      <td>0.0</td>\n",
       "    </tr>\n",
       "    <tr>\n",
       "      <th>1</th>\n",
       "      <td>4.9</td>\n",
       "      <td>3.0</td>\n",
       "      <td>1.4</td>\n",
       "      <td>0.2</td>\n",
       "      <td>1.0</td>\n",
       "      <td>0.0</td>\n",
       "      <td>0.0</td>\n",
       "    </tr>\n",
       "    <tr>\n",
       "      <th>2</th>\n",
       "      <td>4.7</td>\n",
       "      <td>3.2</td>\n",
       "      <td>1.3</td>\n",
       "      <td>0.2</td>\n",
       "      <td>1.0</td>\n",
       "      <td>0.0</td>\n",
       "      <td>0.0</td>\n",
       "    </tr>\n",
       "    <tr>\n",
       "      <th>3</th>\n",
       "      <td>4.6</td>\n",
       "      <td>3.1</td>\n",
       "      <td>1.5</td>\n",
       "      <td>0.2</td>\n",
       "      <td>1.0</td>\n",
       "      <td>0.0</td>\n",
       "      <td>0.0</td>\n",
       "    </tr>\n",
       "    <tr>\n",
       "      <th>4</th>\n",
       "      <td>5.0</td>\n",
       "      <td>3.6</td>\n",
       "      <td>1.4</td>\n",
       "      <td>0.2</td>\n",
       "      <td>1.0</td>\n",
       "      <td>0.0</td>\n",
       "      <td>0.0</td>\n",
       "    </tr>\n",
       "  </tbody>\n",
       "</table>\n",
       "</div>"
      ],
      "text/plain": [
       "   sepal length (cm)  sepal width (cm)  petal length (cm)  petal width (cm)  \\\n",
       "0                5.1               3.5                1.4               0.2   \n",
       "1                4.9               3.0                1.4               0.2   \n",
       "2                4.7               3.2                1.3               0.2   \n",
       "3                4.6               3.1                1.5               0.2   \n",
       "4                5.0               3.6                1.4               0.2   \n",
       "\n",
       "    n1   n2   n3  \n",
       "0  1.0  0.0  0.0  \n",
       "1  1.0  0.0  0.0  \n",
       "2  1.0  0.0  0.0  \n",
       "3  1.0  0.0  0.0  \n",
       "4  1.0  0.0  0.0  "
      ]
     },
     "execution_count": 8,
     "metadata": {},
     "output_type": "execute_result"
    }
   ],
   "source": [
    "# Mudando o valor 'target' do dataset:  \n",
    "new_values = change_value(dados)\n",
    "n1 = np.array(new_values['n1'])\n",
    "n2 = np.array(new_values['n2'])\n",
    "n3 = np.array(new_values['n3'])\n",
    "\n",
    "dados = pd.DataFrame(data=np.c_[iris['data'], n1,n2,n3],\n",
    "                     columns=iris['feature_names'] + ['n1','n2','n3'])\n",
    "dados.head()"
   ]
  },
  {
   "cell_type": "code",
   "execution_count": 9,
   "metadata": {},
   "outputs": [],
   "source": [
    "# Separando os dados para treino e teste\n",
    "X_train, X_test, y_train, y_test = train_test_split(dados.iloc[:,:4], dados.iloc[:,4:], \n",
    "                                                    test_size=0.33, random_state=0)"
   ]
  },
  {
   "cell_type": "code",
   "execution_count": 10,
   "metadata": {},
   "outputs": [
    {
     "data": {
      "text/plain": [
       "{'tam_entrada': 4,\n",
       " 'tam_escondida': 3,\n",
       " 'tam_saida': 3,\n",
       " 'f_ativacao': <function __main__.f_ativacao(x)>,\n",
       " 'df_ativacao': <function __main__.df_ativacao(x)>,\n",
       " 'pesos_saida': array([[-0.2153819 , -0.16944775, -0.11495614, -0.28465744],\n",
       "        [ 0.09907864,  0.39028259, -0.38339913,  0.31155623],\n",
       "        [-0.08090527, -0.46339914,  0.09062457,  0.06567107]]),\n",
       " 'pesos_escondida': array([[-0.13788932, -0.18905951,  0.27540271,  0.00110897,  0.17698265],\n",
       "        [-0.08592479, -0.11388623, -0.28409418, -0.04190437,  0.22608866],\n",
       "        [-0.07489272, -0.09072576,  0.25773385, -0.38559087, -0.04714499]])}"
      ]
     },
     "execution_count": 10,
     "metadata": {},
     "output_type": "execute_result"
    }
   ],
   "source": [
    "# Criação de uma rede neural com 4 neuronios de entrada, 3 escondidos e 3 de saída \n",
    "arq = arquitetura(4,3,3)\n",
    "arq"
   ]
  },
  {
   "cell_type": "code",
   "execution_count": 11,
   "metadata": {
    "scrolled": true
   },
   "outputs": [
    {
     "name": "stdout",
     "output_type": "stream",
     "text": [
      "Erro Quadrático Médio: 0.6952229757168794 Epoca: 0\n",
      "Erro Quadrático Médio: 0.3726439588671813 Epoca: 10\n",
      "Erro Quadrático Médio: 0.29275918100143666 Epoca: 20\n",
      "Erro Quadrático Médio: 0.22062350478173628 Epoca: 30\n",
      "Erro Quadrático Médio: 0.1609172472950574 Epoca: 40\n",
      "Erro Quadrático Médio: 0.12192504367419352 Epoca: 50\n",
      "Erro Quadrático Médio: 0.09888278670726072 Epoca: 60\n",
      "Erro Quadrático Médio: 0.08521339370573218 Epoca: 70\n",
      "Erro Quadrático Médio: 0.07627462013867091 Epoca: 80\n",
      "Erro Quadrático Médio: 0.06980966674475911 Epoca: 90\n",
      "\n",
      "Erro Quadrático Médio Final: 0.06538591509780284 \n",
      "Ultima epoca: 100\n"
     ]
    }
   ],
   "source": [
    "# Treinamento dos pesos sinápticos\n",
    "model = backpropagation(arq, pd.DataFrame(data=np.c_[X_train,y_train]),\n",
    "                        eta=0.1,limiar=1e-2,maxit=100)"
   ]
  },
  {
   "cell_type": "code",
   "execution_count": 12,
   "metadata": {
    "scrolled": true
   },
   "outputs": [
    {
     "data": {
      "text/plain": [
       "array([[-5.98150803e-01, -1.82069078e+00,  2.99178662e+00,\n",
       "         1.27135523e+00, -1.48374099e-01],\n",
       "       [ 3.46776889e+00,  2.23565561e+00, -4.78259220e+00,\n",
       "        -3.49582098e+00,  2.50907913e+00],\n",
       "       [ 1.94799837e-01,  7.10115482e-01, -4.42490146e-03,\n",
       "        -2.44125946e-01, -3.52962296e-02]])"
      ]
     },
     "execution_count": 12,
     "metadata": {},
     "output_type": "execute_result"
    }
   ],
   "source": [
    "# Pesos finais da camada escondida\n",
    "model['pesos_escondida']"
   ]
  },
  {
   "cell_type": "code",
   "execution_count": 13,
   "metadata": {},
   "outputs": [
    {
     "data": {
      "text/plain": [
       "array([[-5.15667988,  2.58422752, -0.07923324,  0.1662553 ],\n",
       "       [ 4.1985014 ,  4.09324579, -3.399099  , -3.00259481],\n",
       "       [ 1.97469162, -5.58213742,  0.57532649,  0.09379902]])"
      ]
     },
     "execution_count": 13,
     "metadata": {},
     "output_type": "execute_result"
    }
   ],
   "source": [
    "# Pesos finais da camada de saida\n",
    "model['pesos_saida'] "
   ]
  },
  {
   "cell_type": "markdown",
   "metadata": {},
   "source": [
    "Agora, com os pesos sinápticos treinados, é possível predizer o output correto de uma certa entrada:"
   ]
  },
  {
   "cell_type": "code",
   "execution_count": 14,
   "metadata": {},
   "outputs": [
    {
     "data": {
      "text/plain": [
       "array([[0., 0., 1.]])"
      ]
     },
     "execution_count": 14,
     "metadata": {},
     "output_type": "execute_result"
    }
   ],
   "source": [
    "# Exemplo: Qual a classe do primeiro exemplo dos dados de teste?\n",
    "np.around(forwardpropagation(model, X_test.iloc[0])['Y_saida'])"
   ]
  },
  {
   "cell_type": "code",
   "execution_count": 15,
   "metadata": {
    "scrolled": true
   },
   "outputs": [
    {
     "data": {
      "text/html": [
       "<div>\n",
       "<style scoped>\n",
       "    .dataframe tbody tr th:only-of-type {\n",
       "        vertical-align: middle;\n",
       "    }\n",
       "\n",
       "    .dataframe tbody tr th {\n",
       "        vertical-align: top;\n",
       "    }\n",
       "\n",
       "    .dataframe thead th {\n",
       "        text-align: right;\n",
       "    }\n",
       "</style>\n",
       "<table border=\"1\" class=\"dataframe\">\n",
       "  <thead>\n",
       "    <tr style=\"text-align: right;\">\n",
       "      <th></th>\n",
       "      <th>0</th>\n",
       "      <th>1</th>\n",
       "      <th>2</th>\n",
       "    </tr>\n",
       "  </thead>\n",
       "  <tbody>\n",
       "    <tr>\n",
       "      <th>0</th>\n",
       "      <td>0.0</td>\n",
       "      <td>0.0</td>\n",
       "      <td>1.0</td>\n",
       "    </tr>\n",
       "    <tr>\n",
       "      <th>0</th>\n",
       "      <td>0.0</td>\n",
       "      <td>1.0</td>\n",
       "      <td>0.0</td>\n",
       "    </tr>\n",
       "    <tr>\n",
       "      <th>0</th>\n",
       "      <td>1.0</td>\n",
       "      <td>0.0</td>\n",
       "      <td>0.0</td>\n",
       "    </tr>\n",
       "    <tr>\n",
       "      <th>0</th>\n",
       "      <td>0.0</td>\n",
       "      <td>0.0</td>\n",
       "      <td>1.0</td>\n",
       "    </tr>\n",
       "    <tr>\n",
       "      <th>0</th>\n",
       "      <td>1.0</td>\n",
       "      <td>0.0</td>\n",
       "      <td>0.0</td>\n",
       "    </tr>\n",
       "  </tbody>\n",
       "</table>\n",
       "</div>"
      ],
      "text/plain": [
       "     0    1    2\n",
       "0  0.0  0.0  1.0\n",
       "0  0.0  1.0  0.0\n",
       "0  1.0  0.0  0.0\n",
       "0  0.0  0.0  1.0\n",
       "0  1.0  0.0  0.0"
      ]
     },
     "execution_count": 15,
     "metadata": {},
     "output_type": "execute_result"
    }
   ],
   "source": [
    "# Obtendo o resultado para todos os casos de teste\n",
    "results = pd.DataFrame()\n",
    "for i in range(len(X_test)):\n",
    "    test = forwardpropagation(model, X_test.iloc[i])\n",
    "    test = pd.DataFrame(np.around(test['Y_saida']))\n",
    "    results = pd.concat([results,test])\n",
    "    \n",
    "results.head()"
   ]
  },
  {
   "cell_type": "code",
   "execution_count": 16,
   "metadata": {},
   "outputs": [
    {
     "data": {
      "text/plain": [
       "0.92"
      ]
     },
     "execution_count": 16,
     "metadata": {},
     "output_type": "execute_result"
    }
   ],
   "source": [
    "# Desempenho da rede:\n",
    "accuracy_score(y_test, results)"
   ]
  }
 ],
 "metadata": {
  "kernelspec": {
   "display_name": "Python 3",
   "language": "python",
   "name": "python3"
  },
  "language_info": {
   "codemirror_mode": {
    "name": "ipython",
    "version": 3
   },
   "file_extension": ".py",
   "mimetype": "text/x-python",
   "name": "python",
   "nbconvert_exporter": "python",
   "pygments_lexer": "ipython3",
   "version": "3.7.1rc1"
  }
 },
 "nbformat": 4,
 "nbformat_minor": 2
}
