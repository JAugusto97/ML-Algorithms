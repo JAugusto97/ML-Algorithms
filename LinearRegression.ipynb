{
 "cells": [
  {
   "cell_type": "markdown",
   "metadata": {},
   "source": [
    "## Regressão Linear com 1 variável"
   ]
  },
  {
   "cell_type": "code",
   "execution_count": 1,
   "metadata": {
    "collapsed": true
   },
   "outputs": [],
   "source": [
    "import numpy as np\n",
    "import matplotlib.pyplot as plt"
   ]
  },
  {
   "cell_type": "code",
   "execution_count": 2,
   "metadata": {
    "collapsed": true
   },
   "outputs": [],
   "source": [
    "def gradientDescent(X, y, theta, learning_rate=1e-3, maxit=10000):  \n",
    "    sqrError = 0\n",
    "    m = len(y) #numero de linhas do dataset\n",
    "    \n",
    "    for i in range(maxit):\n",
    "        #h(x) = theta1*x1 + theta0 (y = ax + b) \n",
    "        hypothesis = np.dot(X, theta)\n",
    "                        \n",
    "                  #obtido - esperado\n",
    "        errors = (hypothesis - y)\n",
    "        \n",
    "        sqrError += (errors**2).sum()\n",
    "        sqrError /= m\n",
    "        \n",
    "        #10 primeiros e os 10 ultimos erros quadráticos\n",
    "        if ((i <= 10) or (i >= 9990)):\n",
    "            print(\"Erro quadrático:\", sqrError)\n",
    "        \n",
    "        #Atualização dos thetas\n",
    "        for n in range(len(theta)):\n",
    "            theta[n] = theta[n] - (learning_rate * 1/m * errors).transpose() @ X[:, n]        \n",
    "    \n",
    "    print(\"Convergiu!\")\n",
    "    print(\"Thetas treinados:\", theta[0], theta[1])\n",
    "    return theta\n",
    "    \n",
    "    #X == matriz 97,2\n",
    "    #y == matriz 97,1\n",
    "    #hypothesis == matriz 97,1\n",
    "    #errors == matriz 97,1 (cada linha é um erro)\n",
    "    #sqrError == escalar\n",
    "    #theta == matriz 2,1"
   ]
  },
  {
   "cell_type": "code",
   "execution_count": 3,
   "metadata": {
    "collapsed": false,
    "scrolled": true
   },
   "outputs": [
    {
     "name": "stdout",
     "output_type": "stream",
     "text": [
      "Erro quadrático: 64.1454677549\n",
      "Erro quadrático: 56.5565329757\n",
      "Erro quadrático: 49.5288557786\n",
      "Erro quadrático: 43.602635505\n",
      "Erro quadrático: 38.6106686463\n",
      "Erro quadrático: 34.4057028063\n",
      "Erro quadrático: 30.8636391929\n",
      "Erro quadrático: 27.8799470529\n",
      "Erro quadrático: 25.3665787284\n",
      "Erro quadrático: 23.2493705002\n",
      "Erro quadrático: 21.465853276\n",
      "Erro quadrático: 9.12651013147\n",
      "Erro quadrático: 9.12648154591\n",
      "Erro quadrático: 9.12645297065\n",
      "Erro quadrático: 9.12642440569\n",
      "Erro quadrático: 9.12639585103\n",
      "Erro quadrático: 9.12636730666\n",
      "Erro quadrático: 9.12633877259\n",
      "Erro quadrático: 9.1263102488\n",
      "Erro quadrático: 9.12628173529\n",
      "Erro quadrático: 9.12625323206\n",
      "Convergiu!\n",
      "Thetas treinados: [-3.24044334] [ 1.12719788]\n"
     ]
    },
    {
     "data": {
      "image/png": "[encoded data removed]",
      "text/plain": [
       "<matplotlib.figure.Figure at 0x7f56a6ea2320>"
      ]
     },
     "metadata": {},
     "output_type": "display_data"
    }
   ],
   "source": [
    "data = np.genfromtxt('ex1data1.txt', delimiter=',')\n",
    "\n",
    "#Adicionando uma coluna de 1s no dataset\n",
    "data = np.column_stack([np.ones((97,1)), data])\n",
    "\n",
    "#thetas iniciais\n",
    "theta = np.array([0.0, 0.0]).reshape(-1,1)\n",
    "\n",
    "X = data[:,0:2].reshape(97,2)\n",
    "y = data[:,2].reshape(97,1)\n",
    "\n",
    "trained_theta = trained_thetas = gradientDescent(X, y, theta)\n",
    "\n",
    "#Todos os pontos do dataset\n",
    "plt.scatter(X[:,1], y, color='r', alpha=0.5)\n",
    "\n",
    "#Hipótese final\n",
    "plt.plot(X[:,1], X @ trained_theta)\n",
    "\n",
    "plt.xlabel(\"Tamanho\")\n",
    "plt.ylabel(\"Preço\")\n",
    "plt.show()"
   ]
  }
 ],
 "metadata": {
  "kernelspec": {
   "display_name": "Python 3",
   "language": "python",
   "name": "python3"
  },
  "language_info": {
   "codemirror_mode": {
    "name": "ipython",
    "version": 3
   },
   "file_extension": ".py",
   "mimetype": "text/x-python",
   "name": "python",
   "nbconvert_exporter": "python",
   "pygments_lexer": "ipython3",
   "version": "3.5.4rc1"
  }
 },
 "nbformat": 4,
 "nbformat_minor": 2
}
