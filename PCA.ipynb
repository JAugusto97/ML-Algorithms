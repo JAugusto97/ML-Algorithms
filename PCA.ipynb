{
 "cells": [
  {
   "cell_type": "markdown",
   "metadata": {},
   "source": [
    "# Principal Component Analysis (PCA)\n",
    "<div>It's an algoritm that reduces the dimension of data from n to k, trying to mantain it's characteristics as well as possible. The problem involves finding k vectors to project the data to.\n",
    "    <br>\n",
    "    <br>\n",
    "Example: Reducing from 2 dimensions to 1 dimension involves finding a vector v that represents a line to project the points.\n",
    "    <br>\n",
    "    <br>\n",
    "Note: It doesn't matter whether we find v or -v, since it represents the same line.</div>"
   ]
  },
  {
   "cell_type": "code",
   "execution_count": 1,
   "metadata": {},
   "outputs": [],
   "source": [
    "%matplotlib inline\n",
    "\n",
    "import numpy as np\n",
    "import numpy.linalg as la\n",
    "import pandas as pd\n",
    "import seaborn as sns\n",
    "import matplotlib.pyplot as plt\n",
    "\n",
    "from sklearn.datasets import load_iris\n",
    "from sklearn.decomposition import PCA as sklearn_PCA\n",
    "from sklearn.linear_model import LogisticRegression\n",
    "from sklearn.model_selection import train_test_split"
   ]
  },
  {
   "cell_type": "markdown",
   "metadata": {},
   "source": [
    "#### Data should be normalized before applying PCA. Feature Scaling is also important, but not needed with the iris dataset since all features are on the same scale."
   ]
  },
  {
   "cell_type": "code",
   "execution_count": 2,
   "metadata": {},
   "outputs": [],
   "source": [
    "def mean_normalize(data):\n",
    "    X = data\n",
    "    for feature_index in range(X.shape[1]):\n",
    "        mean = np.mean(X[:,feature_index])\n",
    "        \n",
    "        for i, example in enumerate(X):\n",
    "            X[i,feature_index] = example[feature_index] - mean\n",
    "            \n",
    "    return X"
   ]
  },
  {
   "cell_type": "code",
   "execution_count": 3,
   "metadata": {},
   "outputs": [
    {
     "data": {
      "text/plain": [
       "(150, 4)"
      ]
     },
     "execution_count": 3,
     "metadata": {},
     "output_type": "execute_result"
    }
   ],
   "source": [
    "# Importing the dataset\n",
    "iris = load_iris()\n",
    "X = iris.data\n",
    "X.shape"
   ]
  },
  {
   "cell_type": "code",
   "execution_count": 4,
   "metadata": {},
   "outputs": [
    {
     "name": "stdout",
     "output_type": "stream",
     "text": [
      "First example without normalization:\n",
      " [5.1 3.5 1.4 0.2]\n",
      "\n",
      "First example normalized:\n",
      " [-0.74333333  0.44266667 -2.358      -0.99933333]\n"
     ]
    }
   ],
   "source": [
    "# Normalizing\n",
    "print(\"First example without normalization:\\n\", X[0])\n",
    "\n",
    "X = mean_normalize(X)\n",
    "\n",
    "print(\"\\nFirst example normalized:\\n\", X[0])"
   ]
  },
  {
   "cell_type": "markdown",
   "metadata": {},
   "source": [
    "#### Computing the Sigma Matrix\n",
    "<img src='https://cdn-images-1.medium.com/max/1600/0*ZY2_q0ZY8s7MCftC.png' width='300'>"
   ]
  },
  {
   "cell_type": "code",
   "execution_count": 5,
   "metadata": {},
   "outputs": [
    {
     "data": {
      "text/plain": [
       "array([[ 25.54208333,  -1.58066667,  47.46825   ,  19.23108333],\n",
       "       [ -1.58066667,   7.07673333, -12.2797    ,  -4.53106667],\n",
       "       [ 47.46825   , -12.2797    , 116.08135   ,  48.26145   ],\n",
       "       [ 19.23108333,  -4.53106667,  48.26145   ,  21.64248333]])"
      ]
     },
     "execution_count": 5,
     "metadata": {},
     "output_type": "execute_result"
    }
   ],
   "source": [
    "sigma = (X.T @ X)/X.shape[1]\n",
    "\n",
    "sigma"
   ]
  },
  {
   "cell_type": "markdown",
   "metadata": {},
   "source": [
    "#### Computing eigen values and eigen vectors"
   ]
  },
  {
   "cell_type": "code",
   "execution_count": 6,
   "metadata": {},
   "outputs": [
    {
     "name": "stdout",
     "output_type": "stream",
     "text": [
      "Eigen Vectors\n",
      " [[ 0.36138659 -0.65658877 -0.58202985  0.31548719]\n",
      " [-0.08452251 -0.73016143  0.59791083 -0.3197231 ]\n",
      " [ 0.85667061  0.17337266  0.07623608 -0.47983899]\n",
      " [ 0.3582892   0.07548102  0.54583143  0.75365743]]\n",
      "\n",
      "Eigen Values\n",
      " [157.50200355   9.03948536   2.91330388   0.88785721]\n"
     ]
    }
   ],
   "source": [
    "eigen_values, eigen_vectors = la.eig(sigma)\n",
    "\n",
    "print(\"Eigen Vectors\\n\", eigen_vectors)\n",
    "print(\"\\nEigen Values\\n\", eigen_values)"
   ]
  },
  {
   "cell_type": "markdown",
   "metadata": {},
   "source": [
    "#### Selecting k (reduced number of dimensions)\n",
    "<div> K should be selected as the smallest value that still retains a good percentage of variance (something around 90% is usually good enough). We can calculate the percentage of retained variance by summating the eigen values from 1 to k and dividing by the number of eigein values.</div>\n",
    "\n",
    "<img src='https://raw.githubusercontent.com/ritchieng/machine-learning-stanford/master/w8_unsupervised_learning/unsupervisedlearning31.png' width='300'>"
   ]
  },
  {
   "cell_type": "code",
   "execution_count": 7,
   "metadata": {
    "scrolled": true
   },
   "outputs": [
    {
     "name": "stdout",
     "output_type": "stream",
     "text": [
      "k = 1 -> Retained Variance = 0.9246187232017272\n",
      "k = 2 -> Retained Variance = 0.9776852063187947\n",
      "k = 3 -> Retained Variance = 0.9947878161267245\n",
      "k = 4 -> Retained Variance = 1.0\n"
     ]
    }
   ],
   "source": [
    "for k in range(1,5):\n",
    "    print(\"k =\", k, \"-> Retained Variance =\", np.sum(eigen_values[:k])/sum(eigen_values))"
   ]
  },
  {
   "cell_type": "markdown",
   "metadata": {},
   "source": [
    "#### Selecting the first k eigen vectors"
   ]
  },
  {
   "cell_type": "code",
   "execution_count": 8,
   "metadata": {},
   "outputs": [
    {
     "data": {
      "text/plain": [
       "array([[ 0.36138659, -0.65658877],\n",
       "       [-0.08452251, -0.73016143],\n",
       "       [ 0.85667061,  0.17337266],\n",
       "       [ 0.3582892 ,  0.07548102]])"
      ]
     },
     "execution_count": 8,
     "metadata": {},
     "output_type": "execute_result"
    }
   ],
   "source": [
    "U = eigen_vectors[:,:2] # k == 2\n",
    "U"
   ]
  },
  {
   "cell_type": "markdown",
   "metadata": {},
   "source": [
    "#### Applying PCA"
   ]
  },
  {
   "cell_type": "code",
   "execution_count": 9,
   "metadata": {
    "scrolled": true
   },
   "outputs": [
    {
     "name": "stdout",
     "output_type": "stream",
     "text": [
      "Old 4-dimensional first example (normalized):\n",
      " [-0.74333333  0.44266667 -2.358      -0.99933333]\n",
      "\n",
      "New 2-dimesional first example:\n",
      " [-2.68412563 -0.31939725]\n"
     ]
    }
   ],
   "source": [
    "z0 = X @ U\n",
    "print('Old 4-dimensional first example (normalized):\\n', X[0])\n",
    "print('\\nNew 2-dimesional first example:\\n', z0[0])"
   ]
  },
  {
   "cell_type": "markdown",
   "metadata": {},
   "source": [
    "#### Applying Sklearn's PCA"
   ]
  },
  {
   "cell_type": "code",
   "execution_count": 10,
   "metadata": {},
   "outputs": [
    {
     "data": {
      "text/plain": [
       "(150, 4)"
      ]
     },
     "execution_count": 10,
     "metadata": {},
     "output_type": "execute_result"
    }
   ],
   "source": [
    "# Importing dataset\n",
    "iris = load_iris()\n",
    "X = iris.data\n",
    "X.shape"
   ]
  },
  {
   "cell_type": "code",
   "execution_count": 11,
   "metadata": {},
   "outputs": [
    {
     "name": "stdout",
     "output_type": "stream",
     "text": [
      "Old 4-dimensional first example:\n",
      " [5.1 3.5 1.4 0.2]\n",
      "\n",
      "New 2-dimesional first example:\n",
      " [-2.68412563  0.31939725]\n"
     ]
    }
   ],
   "source": [
    "pca = sklearn_PCA(n_components=2) # k == 2\n",
    "pca.fit(X)\n",
    "z1 = pca.transform(X)\n",
    "\n",
    "print('Old 4-dimensional first example:\\n', X[0])\n",
    "print('\\nNew 2-dimesional first example:\\n', z1[0])"
   ]
  },
  {
   "cell_type": "markdown",
   "metadata": {},
   "source": [
    "#### Plotting the new dataset with only 2 features\n",
    "<br>\n",
    "<div>Sklearn's PCA returned the same values as my PCA, but my vectors are [v1, v2] while sklearn's are [v1, -v2]. So when I plot the data, it seems upside down. As explained before, it doesn't matter whether it's v or -v. The result will be the same.</div>"
   ]
  },
  {
   "cell_type": "code",
   "execution_count": 12,
   "metadata": {},
   "outputs": [
    {
     "name": "stdout",
     "output_type": "stream",
     "text": [
      "My vectors:\n",
      " [[ 0.36138659 -0.08452251  0.85667061  0.3582892 ]\n",
      " [-0.65658877 -0.73016143  0.17337266  0.07548102]]\n",
      "\n",
      "Sklearn's vectors\n",
      " [[ 0.36138659 -0.08452251  0.85667061  0.3582892 ]\n",
      " [ 0.65658877  0.73016143 -0.17337266 -0.07548102]]\n"
     ]
    }
   ],
   "source": [
    "print(\"My vectors:\\n\",U.T)\n",
    "print(\"\\nSklearn's vectors\\n\", pca.components_)"
   ]
  },
  {
   "cell_type": "code",
   "execution_count": 13,
   "metadata": {
    "scrolled": true
   },
   "outputs": [
    {
     "data": {
      "text/plain": [
       "Text(0.5, 1.0, \"Sklearn's PCA with -y\")"
      ]
     },
     "execution_count": 13,
     "metadata": {},
     "output_type": "execute_result"
    },
    {
     "data": {
      "image/png": "[encoded data removed]",
      "text/plain": [
       "<Figure size 432x288 with 3 Axes>"
      ]
     },
     "metadata": {
      "needs_background": "light"
     },
     "output_type": "display_data"
    }
   ],
   "source": [
    "# Plotting\n",
    "figures, axes = plt.subplots(1,3, sharex=True, sharey=True)\n",
    "axes[0].scatter(z0[:,0],z0[:,1], c='r', alpha=0.3)\n",
    "axes[0].set_title('My PCA')\n",
    "\n",
    "axes[1].scatter(z1[:,0],z1[:,1], c='g', alpha=0.3)\n",
    "axes[1].set_title(\"Sklearn's PCA\")\n",
    "\n",
    "axes[2].scatter(z1[:,0],-z1[:,1], c='b', alpha=0.3)\n",
    "axes[2].set_title(\"Sklearn's PCA with -y\")"
   ]
  },
  {
   "cell_type": "markdown",
   "metadata": {},
   "source": [
    "### Putting things together"
   ]
  },
  {
   "cell_type": "code",
   "execution_count": 14,
   "metadata": {},
   "outputs": [],
   "source": [
    "def my_PCA(X, epsilon=None, k=None):\n",
    "    \"\"\" Runs PCA either by a fixed k or \n",
    "        by automaticly finding a k that mantains variance above epsilon %\"\"\"\n",
    "    \n",
    "    # Normalizing X\n",
    "    X = mean_normalize(X)\n",
    "    \n",
    "    # Computing the sigma matrix\n",
    "    sigma = (X.T @ X)/X.shape[1]\n",
    "    \n",
    "    # Computing eigen values and eigen vectors\n",
    "    eigen_values, eigen_vectors = la.eig(sigma)\n",
    "    \n",
    "    # Select the smallest k with retained variance above epsilon\n",
    "    if (k == None):\n",
    "        k = 1\n",
    "        retained_variance = eigen_values[:k]/sum(eigen_values)\n",
    "        \n",
    "        while(retained_variance < epsilon):\n",
    "            retained_variance = np.sum(eigen_values[:k+1])/sum(eigen_values)\n",
    "            k += 1\n",
    "    \n",
    "    # if k was passed as an argument\n",
    "    else: \n",
    "        retained_variance = sum(eigen_values[:k])/sum(eigen_values)\n",
    "        \n",
    "    # Select the first k vectors\n",
    "    U = eigen_vectors[:,:k]\n",
    "    \n",
    "    z = X @ U\n",
    "    \n",
    "    return (z, retained_variance)       "
   ]
  },
  {
   "cell_type": "code",
   "execution_count": 15,
   "metadata": {},
   "outputs": [
    {
     "data": {
      "text/plain": [
       "(150, 4)"
      ]
     },
     "execution_count": 15,
     "metadata": {},
     "output_type": "execute_result"
    }
   ],
   "source": [
    "iris = load_iris()\n",
    "X = iris.data\n",
    "y = iris.target\n",
    "X.shape"
   ]
  },
  {
   "cell_type": "markdown",
   "metadata": {},
   "source": [
    "### Comparing Logistic Regression models with the original data with n dimensions vs the new data with k dimensions\n",
    "\n",
    "#### n dimensions"
   ]
  },
  {
   "cell_type": "code",
   "execution_count": 16,
   "metadata": {},
   "outputs": [
    {
     "name": "stdout",
     "output_type": "stream",
     "text": [
      "First example:\n",
      " [6.1 3.  4.6 1.4]\n",
      "\n",
      "Original data's score: 0.9666666666666667\n"
     ]
    }
   ],
   "source": [
    "# Splitting the original data\n",
    "X_train, X_test, y_train, y_test = train_test_split(X, y, test_size=0.2, random_state=1)\n",
    "print(\"First example:\\n\", X_train[0])\n",
    "\n",
    "# Applying Logistic Regression\n",
    "clf = LogisticRegression(solver='lbfgs', multi_class='auto', max_iter=1000)\n",
    "clf.fit(X_train,y_train)\n",
    "print(\"\\nOriginal data's score:\", clf.score(X_test, y_test))"
   ]
  },
  {
   "cell_type": "markdown",
   "metadata": {},
   "source": [
    "#### k dimensions"
   ]
  },
  {
   "cell_type": "code",
   "execution_count": 17,
   "metadata": {},
   "outputs": [
    {
     "name": "stdout",
     "output_type": "stream",
     "text": [
      "Retained Variance [0.92461872]\n"
     ]
    },
    {
     "data": {
      "image/png": "[encoded data removed]",
      "text/plain": [
       "<Figure size 432x288 with 1 Axes>"
      ]
     },
     "metadata": {
      "needs_background": "light"
     },
     "output_type": "display_data"
    }
   ],
   "source": [
    "# Applying PCA\n",
    "z2, retained_variance = my_PCA(X, epsilon=0.9)\n",
    "print(\"Retained Variance\", retained_variance)\n",
    "\n",
    "# Concatenating target feature to z2\n",
    "iris = sns.load_dataset('iris')\n",
    "x = np.concatenate((z2,np.atleast_2d(iris.loc[:,'species']).T),axis=1)\n",
    "\n",
    "# Plotting\n",
    "ax = sns.scatterplot(x=x[:,0], y=np.ones(len(x)), hue=x[:,1])"
   ]
  },
  {
   "cell_type": "code",
   "execution_count": 18,
   "metadata": {},
   "outputs": [
    {
     "name": "stdout",
     "output_type": "stream",
     "text": [
      "First example:\n",
      " [0.8908152]\n",
      "\n",
      "New k-dimesional data's score: 0.9666666666666667\n"
     ]
    }
   ],
   "source": [
    "# Splitting the lower dimensional data\n",
    "X_train, X_test, y_train, y_test = train_test_split(z2, y, test_size=0.2, random_state=1)\n",
    "print(\"First example:\\n\", X_train[0])\n",
    "\n",
    "# Applying Logistic Regression\n",
    "clf = LogisticRegression(solver='lbfgs', multi_class='auto', max_iter=1000)\n",
    "clf.fit(X_train,y_train)\n",
    "print(\"\\nNew k-dimesional data's score:\", clf.score(X_test, y_test))"
   ]
  },
  {
   "cell_type": "markdown",
   "metadata": {},
   "source": [
    "## Both have the same score!"
   ]
  }
 ],
 "metadata": {
  "kernelspec": {
   "display_name": "Python 3",
   "language": "python",
   "name": "python3"
  },
  "language_info": {
   "codemirror_mode": {
    "name": "ipython",
    "version": 3
   },
   "file_extension": ".py",
   "mimetype": "text/x-python",
   "name": "python",
   "nbconvert_exporter": "python",
   "pygments_lexer": "ipython3",
   "version": "3.7.1rc1"
  }
 },
 "nbformat": 4,
 "nbformat_minor": 2
}
