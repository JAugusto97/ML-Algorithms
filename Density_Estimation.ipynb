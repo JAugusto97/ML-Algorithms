{
 "cells": [
  {
   "attachments": {},
   "cell_type": "markdown",
   "metadata": {},
   "source": [
    "# Density Estimation - Anomaly Detection\n",
    "<div>It's an algorithm that automaticly find examples that are significantly different from the rest of the data. It finds gaussian curves for every feature so it can understand how the data is distributed, then it multiplies all these gaussian curves on a single variable that estimates how close the example is to the rest of the data</div>\n",
    "\n",
    "<img src='http://hyperphysics.phy-astr.gsu.edu/hbase/Math/immath/hwidc.gif' width='200' align='mid'>\n",
    "<img src='https://upload.wikimedia.org/wikipedia/commons/thumb/3/3e/Gaussian_2d.svg/300px-Gaussian_2d.svg.png' width='200' align='mid'>\n",
    "\n",
    "<div>An anomalous example will most likely fall on the 'floor' of this graph, indicating that it is very discrepant.\n",
    "<br>\n",
    "\n",
    "This algorithm is not like the other supervised learning algoritms, since it doesn't need a lot of positive examples to learn. In fact, it only 'learns' from negative examples. Positive examples are used to test the model.</div>"
   ]
  },
  {
   "cell_type": "code",
   "execution_count": 1,
   "metadata": {},
   "outputs": [],
   "source": [
    "import numpy as np\n",
    "import pandas as pd\n",
    "import seaborn as sns\n",
    "import matplotlib.pyplot as plt\n",
    "\n",
    "from sklearn.datasets import load_iris\n",
    "from sklearn.model_selection import train_test_split"
   ]
  },
  {
   "cell_type": "markdown",
   "metadata": {},
   "source": [
    "#### Using 50 setosas to build the model and 10 versicolors as anomalies"
   ]
  },
  {
   "cell_type": "code",
   "execution_count": 2,
   "metadata": {
    "scrolled": true
   },
   "outputs": [
    {
     "data": {
      "text/html": [
       "<div>\n",
       "<style scoped>\n",
       "    .dataframe tbody tr th:only-of-type {\n",
       "        vertical-align: middle;\n",
       "    }\n",
       "\n",
       "    .dataframe tbody tr th {\n",
       "        vertical-align: top;\n",
       "    }\n",
       "\n",
       "    .dataframe thead th {\n",
       "        text-align: right;\n",
       "    }\n",
       "</style>\n",
       "<table border=\"1\" class=\"dataframe\">\n",
       "  <thead>\n",
       "    <tr style=\"text-align: right;\">\n",
       "      <th></th>\n",
       "      <th>sepal length (cm)</th>\n",
       "      <th>sepal width (cm)</th>\n",
       "      <th>petal length (cm)</th>\n",
       "      <th>petal width (cm)</th>\n",
       "      <th>species</th>\n",
       "    </tr>\n",
       "  </thead>\n",
       "  <tbody>\n",
       "    <tr>\n",
       "      <th>50</th>\n",
       "      <td>7.0</td>\n",
       "      <td>3.2</td>\n",
       "      <td>4.7</td>\n",
       "      <td>1.4</td>\n",
       "      <td>1.0</td>\n",
       "    </tr>\n",
       "    <tr>\n",
       "      <th>51</th>\n",
       "      <td>6.4</td>\n",
       "      <td>3.2</td>\n",
       "      <td>4.5</td>\n",
       "      <td>1.5</td>\n",
       "      <td>1.0</td>\n",
       "    </tr>\n",
       "    <tr>\n",
       "      <th>52</th>\n",
       "      <td>6.9</td>\n",
       "      <td>3.1</td>\n",
       "      <td>4.9</td>\n",
       "      <td>1.5</td>\n",
       "      <td>1.0</td>\n",
       "    </tr>\n",
       "    <tr>\n",
       "      <th>53</th>\n",
       "      <td>5.5</td>\n",
       "      <td>2.3</td>\n",
       "      <td>4.0</td>\n",
       "      <td>1.3</td>\n",
       "      <td>1.0</td>\n",
       "    </tr>\n",
       "    <tr>\n",
       "      <th>54</th>\n",
       "      <td>6.5</td>\n",
       "      <td>2.8</td>\n",
       "      <td>4.6</td>\n",
       "      <td>1.5</td>\n",
       "      <td>1.0</td>\n",
       "    </tr>\n",
       "    <tr>\n",
       "      <th>55</th>\n",
       "      <td>5.7</td>\n",
       "      <td>2.8</td>\n",
       "      <td>4.5</td>\n",
       "      <td>1.3</td>\n",
       "      <td>1.0</td>\n",
       "    </tr>\n",
       "    <tr>\n",
       "      <th>56</th>\n",
       "      <td>6.3</td>\n",
       "      <td>3.3</td>\n",
       "      <td>4.7</td>\n",
       "      <td>1.6</td>\n",
       "      <td>1.0</td>\n",
       "    </tr>\n",
       "    <tr>\n",
       "      <th>57</th>\n",
       "      <td>4.9</td>\n",
       "      <td>2.4</td>\n",
       "      <td>3.3</td>\n",
       "      <td>1.0</td>\n",
       "      <td>1.0</td>\n",
       "    </tr>\n",
       "    <tr>\n",
       "      <th>58</th>\n",
       "      <td>6.6</td>\n",
       "      <td>2.9</td>\n",
       "      <td>4.6</td>\n",
       "      <td>1.3</td>\n",
       "      <td>1.0</td>\n",
       "    </tr>\n",
       "    <tr>\n",
       "      <th>59</th>\n",
       "      <td>5.2</td>\n",
       "      <td>2.7</td>\n",
       "      <td>3.9</td>\n",
       "      <td>1.4</td>\n",
       "      <td>1.0</td>\n",
       "    </tr>\n",
       "  </tbody>\n",
       "</table>\n",
       "</div>"
      ],
      "text/plain": [
       "    sepal length (cm)  sepal width (cm)  petal length (cm)  petal width (cm)  \\\n",
       "50                7.0               3.2                4.7               1.4   \n",
       "51                6.4               3.2                4.5               1.5   \n",
       "52                6.9               3.1                4.9               1.5   \n",
       "53                5.5               2.3                4.0               1.3   \n",
       "54                6.5               2.8                4.6               1.5   \n",
       "55                5.7               2.8                4.5               1.3   \n",
       "56                6.3               3.3                4.7               1.6   \n",
       "57                4.9               2.4                3.3               1.0   \n",
       "58                6.6               2.9                4.6               1.3   \n",
       "59                5.2               2.7                3.9               1.4   \n",
       "\n",
       "    species  \n",
       "50      1.0  \n",
       "51      1.0  \n",
       "52      1.0  \n",
       "53      1.0  \n",
       "54      1.0  \n",
       "55      1.0  \n",
       "56      1.0  \n",
       "57      1.0  \n",
       "58      1.0  \n",
       "59      1.0  "
      ]
     },
     "execution_count": 2,
     "metadata": {},
     "output_type": "execute_result"
    }
   ],
   "source": [
    "iris = load_iris()\n",
    "data = pd.DataFrame(np.c_[iris.data, iris.target], \n",
    "                    columns=np.concatenate((iris.feature_names,[\"species\"])))\n",
    "data = data.loc[:59]\n",
    "data.tail(10)"
   ]
  },
  {
   "cell_type": "markdown",
   "metadata": {},
   "source": [
    "#### It helps a lot if features are atleast near a normal distribution. If they aren't, then try to apply transformations such as log(x), x**-1/i, log(x+c), etc. "
   ]
  },
  {
   "cell_type": "code",
   "execution_count": 3,
   "metadata": {},
   "outputs": [
    {
     "data": {
      "image/png": "[encoded data removed]",
      "text/plain": [
       "<Figure size 432x288 with 4 Axes>"
      ]
     },
     "metadata": {
      "needs_background": "light"
     },
     "output_type": "display_data"
    }
   ],
   "source": [
    "X = data.iloc[:49,[0,1,2,3]]\n",
    "y = data.iloc[:49,-1]\n",
    "\n",
    "fig, axes = plt.subplots(2,2)\n",
    "axes[0,0].hist(np.asarray(X)[:,0], bins=10, rwidth=0.9, color='r')\n",
    "axes[0,0].set_title('sepal len')\n",
    "\n",
    "axes[1,0].hist(np.asarray(X)[:,1], bins=10, rwidth=0.9, color='orange')\n",
    "axes[1,0].set_title('sepal wid')\n",
    "\n",
    "axes[0,1].hist(np.asarray(X)[:,2], bins=10, rwidth=0.9, color='b')\n",
    "axes[0,1].set_title('petal len')\n",
    "\n",
    "axes[1,1].hist(np.asarray(X)[:,3], bins=10, rwidth=0.9, color='g')\n",
    "axes[1,1].set_title('petal wid')\n",
    "\n",
    "plt.setp([a.get_xticklabels() for a in axes[0, :]], visible=False);\n",
    "plt.setp([a.get_yticklabels() for a in axes[:, 1]], visible=False);\n",
    "plt.setp([a.get_xticklabels() for a in axes[:, 0]], visible=False);\n",
    "plt.setp([a.get_yticklabels() for a in axes[1, :]], visible=False);"
   ]
  },
  {
   "cell_type": "markdown",
   "metadata": {},
   "source": [
    "#### Splitting data"
   ]
  },
  {
   "cell_type": "code",
   "execution_count": 4,
   "metadata": {},
   "outputs": [
    {
     "name": "stdout",
     "output_type": "stream",
     "text": [
      "X_train size (setosas): 39 \n",
      "X_test size (setosas + 10 versicolors): 20\n"
     ]
    }
   ],
   "source": [
    "X_train, X_test = train_test_split(np.asarray(X), test_size=0.2, random_state=1)\n",
    "\n",
    "# Appending 10 versicolors to the test data\n",
    "X_test = np.concatenate((data.iloc[pd.DataFrame(X_test).index, [0,1,2,3]], data.iloc[50:60, [0,1,2,3]]))\n",
    "y_test = np.concatenate((data.loc[pd.DataFrame(X_test).index, 'species'], data.loc[50:60, 'species']))\n",
    "\n",
    "print(\"X_train size (setosas):\", len(X_train), \"\\nX_test size (setosas + 10 versicolors):\", len(X_test))"
   ]
  },
  {
   "cell_type": "markdown",
   "metadata": {},
   "source": [
    "#### Finding the mean of every feature j from training examples"
   ]
  },
  {
   "cell_type": "code",
   "execution_count": 5,
   "metadata": {},
   "outputs": [
    {
     "data": {
      "text/plain": [
       "array([5.04615385, 3.47692308, 1.46153846, 0.25641026])"
      ]
     },
     "execution_count": 5,
     "metadata": {},
     "output_type": "execute_result"
    }
   ],
   "source": [
    "mus = np.mean(X_train, axis=0)\n",
    "mus"
   ]
  },
  {
   "cell_type": "markdown",
   "metadata": {},
   "source": [
    "#### Finding the variance of every feature j from training examples"
   ]
  },
  {
   "cell_type": "code",
   "execution_count": 6,
   "metadata": {},
   "outputs": [
    {
     "data": {
      "text/plain": [
       "array([0.13017751, 0.15869822, 0.03518738, 0.01322814])"
      ]
     },
     "execution_count": 6,
     "metadata": {},
     "output_type": "execute_result"
    }
   ],
   "source": [
    "sigmas = np.var(X_train, axis=0)\n",
    "sigmas"
   ]
  },
  {
   "cell_type": "markdown",
   "metadata": {},
   "source": [
    "#### After finding the mean and variance of the training examples, calculate p(x) of a new example x as the product of the formula below for every  xj, meanj, variancej \n",
    "\n",
    "<img src='https://cdn-images-1.medium.com/max/1600/1*t4zrihvhtlZJZsvcX3jRjg.png' width='300'>"
   ]
  },
  {
   "cell_type": "code",
   "execution_count": 7,
   "metadata": {},
   "outputs": [],
   "source": [
    "def p(X, mus, sigmas):\n",
    "    return (1/np.sqrt(sigmas*2*np.pi)) * np.exp(-np.power((X - mus),2) / (2*sigmas) )\n",
    "\n",
    "def p_example(X, mus, sigmas):\n",
    "    prob = 1\n",
    "    for j in range(X.shape[1]):\n",
    "        prob *= p(X[:,j], mus[j], sigmas[j])\n",
    "        \n",
    "    return prob"
   ]
  },
  {
   "cell_type": "markdown",
   "metadata": {},
   "source": [
    "#### Then set a value for epsilon. Calculate p(xi) for every xi and if p(xi) < epsilon, then flag it as an anomaly."
   ]
  },
  {
   "cell_type": "code",
   "execution_count": 8,
   "metadata": {
    "scrolled": true
   },
   "outputs": [
    {
     "data": {
      "text/plain": [
       "array([False, False, False, False, False, False, False, False, False,\n",
       "       False,  True,  True,  True,  True,  True,  True,  True,  True,\n",
       "        True,  True])"
      ]
     },
     "execution_count": 8,
     "metadata": {},
     "output_type": "execute_result"
    }
   ],
   "source": [
    "epsilon = 0.01\n",
    "p_example(X_test, mus, sigmas) < epsilon"
   ]
  },
  {
   "cell_type": "code",
   "execution_count": 9,
   "metadata": {
    "scrolled": true
   },
   "outputs": [
    {
     "name": "stdout",
     "output_type": "stream",
     "text": [
      "Anomalies:\n",
      " [[7.  3.2 4.7 1.4]\n",
      " [6.4 3.2 4.5 1.5]\n",
      " [6.9 3.1 4.9 1.5]\n",
      " [5.5 2.3 4.  1.3]\n",
      " [6.5 2.8 4.6 1.5]\n",
      " [5.7 2.8 4.5 1.3]\n",
      " [6.3 3.3 4.7 1.6]\n",
      " [4.9 2.4 3.3 1. ]\n",
      " [6.6 2.9 4.6 1.3]\n",
      " [5.2 2.7 3.9 1.4]]\n"
     ]
    }
   ],
   "source": [
    "print(\"Anomalies:\\n\", X_test[p_example(X_test, mus, sigmas) < epsilon])"
   ]
  },
  {
   "cell_type": "markdown",
   "metadata": {},
   "source": [
    "#### It predicted correctly all 10 anomalies (versicolors)"
   ]
  }
 ],
 "metadata": {
  "kernelspec": {
   "display_name": "Python 3",
   "language": "python",
   "name": "python3"
  },
  "language_info": {
   "codemirror_mode": {
    "name": "ipython",
    "version": 3
   },
   "file_extension": ".py",
   "mimetype": "text/x-python",
   "name": "python",
   "nbconvert_exporter": "python",
   "pygments_lexer": "ipython3",
   "version": "3.7.1rc1"
  }
 },
 "nbformat": 4,
 "nbformat_minor": 2
}
